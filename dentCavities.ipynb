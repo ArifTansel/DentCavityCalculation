{
 "cells": [
  {
   "cell_type": "markdown",
   "metadata": {},
   "source": [
    "## Imports"
   ]
  },
  {
   "cell_type": "code",
   "execution_count": 1,
   "metadata": {},
   "outputs": [
    {
     "name": "stderr",
     "output_type": "stream",
     "text": [
      "C:\\Users\\Arif\\AppData\\Local\\Packages\\PythonSoftwareFoundation.Python.3.10_qbz5n2kfra8p0\\LocalCache\\local-packages\\Python310\\site-packages\\requests\\__init__.py:102: RequestsDependencyWarning: urllib3 (1.26.9) or chardet (5.2.0)/charset_normalizer (2.0.12) doesn't match a supported version!\n",
      "  warnings.warn(\"urllib3 ({}) or chardet ({})/charset_normalizer ({}) doesn't match a supported \"\n"
     ]
    },
    {
     "name": "stdout",
     "output_type": "stream",
     "text": [
      "Jupyter environment detected. Enabling Open3D WebVisualizer.\n",
      "[Open3D INFO] WebRTC GUI backend enabled.\n",
      "[Open3D INFO] WebRTCWindowSystem: HTTP handshake server disabled.\n"
     ]
    }
   ],
   "source": [
    "import trimesh\n",
    "import open3d as o3d\n",
    "import numpy as np\n",
    "from sklearn.cluster import KMeans\n",
    "from scipy.sparse import csr_matrix\n",
    "from scipy.sparse.csgraph import connected_components\n",
    "from open3d.visualization import gui\n",
    "from open3d.visualization import rendering"
   ]
  },
  {
   "cell_type": "markdown",
   "metadata": {},
   "source": [
    "### Load and compute the mean curvature"
   ]
  },
  {
   "cell_type": "code",
   "execution_count": 2,
   "metadata": {},
   "outputs": [],
   "source": [
    "# Load the tooth STL model using Trimesh\n",
    "mesh_trimesh = trimesh.load_mesh(\"stlFiles/sinifbirNumaraAlti.stl\")\n",
    "\n",
    "# Get vertices, faces, and normals\n",
    "vertices = np.array(mesh_trimesh.vertices)\n",
    "faces = np.array(mesh_trimesh.faces)\n",
    "normals = np.array(mesh_trimesh.vertex_normals)\n",
    "\n",
    "dent_mesh = o3d.geometry.TriangleMesh()\n",
    "dent_mesh.vertices = o3d.utility.Vector3dVector(vertices)\n",
    "dent_mesh.triangles = o3d.utility.Vector3iVector(faces)\n",
    "dent_mesh.compute_vertex_normals()\n",
    "# Compute Mean Curvature using Trimesh\n",
    "mean_curvature = trimesh.curvature.discrete_mean_curvature_measure(mesh_trimesh, mesh_trimesh.vertices, radius=2)\n"
   ]
  },
  {
   "cell_type": "markdown",
   "metadata": {},
   "source": [
    "### The function that extracts the cavity from the tooth model"
   ]
  },
  {
   "cell_type": "code",
   "execution_count": null,
   "metadata": {},
   "outputs": [],
   "source": [
    "def extract_largest_cavity(vertices, faces, cavity_indices):\n",
    "    # Get unique cavity indices\n",
    "    unique_cavity_indices = np.unique(cavity_indices)\n",
    "    \n",
    "    # Find faces that have all vertices in cavity_indices\n",
    "    cavity_face_mask = np.isin(faces.ravel(), unique_cavity_indices).reshape(faces.shape)\n",
    "    cavity_face_indices = np.where(np.all(cavity_face_mask, axis=1))[0]\n",
    "    cavity_faces = faces[cavity_face_indices]\n",
    "    \n",
    "    # Create adjacency matrix for connected component analysis\n",
    "    edges = set()\n",
    "    for face in cavity_faces:\n",
    "        edges.add((face[0], face[1]))\n",
    "        edges.add((face[1], face[2]))\n",
    "        edges.add((face[2], face[0]))\n",
    "    \n",
    "    # Create sparse adjacency matrix\n",
    "    row, col = zip(*edges)\n",
    "    row = np.array(row)\n",
    "    col = np.array(col)\n",
    "    data = np.ones_like(row)\n",
    "    \n",
    "    # Create sparse matrix with size equal to total vertices \n",
    "    # (will be pruned to cavity vertices later)\n",
    "    adj_matrix = csr_matrix((data, (row, col)), shape=(vertices.shape[0], vertices.shape[0]))\n",
    "    \n",
    "    # Find connected components\n",
    "    n_components, labels = connected_components(csgraph=adj_matrix, directed=False)\n",
    "    \n",
    "    # Count vertices in each component\n",
    "    component_sizes = np.zeros(n_components, dtype=int)\n",
    "    for label in labels[unique_cavity_indices]:\n",
    "        component_sizes[label] += 1\n",
    "    \n",
    "    # Find the largest component\n",
    "    largest_component = np.argmax(component_sizes)\n",
    "    \n",
    "    # Get vertices from the largest component\n",
    "    largest_cavity_indices = np.where(labels == largest_component)[0]\n",
    "    largest_cavity_indices = np.intersect1d(largest_cavity_indices, unique_cavity_indices)\n",
    "    \n",
    "    # Create index mapping for new mesh\n",
    "    index_map = np.zeros(len(vertices), dtype=int)\n",
    "    for i, idx in enumerate(largest_cavity_indices):\n",
    "        index_map[idx] = i\n",
    "    \n",
    "    # Get faces for largest component\n",
    "    largest_face_mask = np.isin(cavity_faces.ravel(), largest_cavity_indices).reshape(cavity_faces.shape)\n",
    "    largest_face_indices = np.where(np.all(largest_face_mask, axis=1))[0]\n",
    "    largest_cavity_faces = cavity_faces[largest_face_indices]\n",
    "    \n",
    "    # Remap face indices\n",
    "    remapped_faces = np.zeros_like(largest_cavity_faces)\n",
    "    for i in range(largest_cavity_faces.shape[0]):\n",
    "        for j in range(3):\n",
    "            remapped_faces[i, j] = index_map[largest_cavity_faces[i, j]]\n",
    "    \n",
    "    # Create and return the largest cavity mesh\n",
    "    largest_cavity_mesh = o3d.geometry.TriangleMesh()\n",
    "    largest_cavity_mesh.vertices = o3d.utility.Vector3dVector(vertices[largest_cavity_indices])\n",
    "    largest_cavity_mesh.triangles = o3d.utility.Vector3iVector(remapped_faces)\n",
    "    largest_cavity_mesh.compute_vertex_normals()\n",
    "    \n",
    "    # Set color for visualization\n",
    "    cavity_colors = np.ones((len(largest_cavity_indices), 3)) * [0, 1, 0]  # Green\n",
    "    largest_cavity_mesh.vertex_colors = o3d.utility.Vector3dVector(cavity_colors)\n",
    "    \n",
    "    return largest_cavity_mesh, largest_cavity_indices"
   ]
  },
  {
   "cell_type": "markdown",
   "metadata": {},
   "source": [
    "### The function that extracts the cavity bottom "
   ]
  },
  {
   "cell_type": "code",
   "execution_count": 4,
   "metadata": {},
   "outputs": [],
   "source": [
    "def extract_cavity_bottom(largest_cavity_mesh, threshold_percentage=0.1):\n",
    "    # Get vertices and triangles from the mesh\n",
    "    cavity_vertices = np.asarray(largest_cavity_mesh.vertices)\n",
    "    cavity_triangles = np.asarray(largest_cavity_mesh.triangles)\n",
    "    \n",
    "    # Calculate z-range\n",
    "    min_z = np.min(cavity_vertices[:, 2])\n",
    "    max_z = np.max(cavity_vertices[:, 2])\n",
    "    z_range = max_z - min_z\n",
    "    \n",
    "    # Define a threshold for what constitutes the \"bottom\"\n",
    "    # Here we're considering the bottom 10% of the cavity's depth\n",
    "    z_threshold = min_z + z_range * threshold_percentage\n",
    "    \n",
    "    # Find vertices that are in the bottom region\n",
    "    bottom_vertex_mask = cavity_vertices[:, 2] <= z_threshold\n",
    "    bottom_vertex_indices = np.where(bottom_vertex_mask)[0]\n",
    "    \n",
    "    # Find triangles where all three vertices are in the bottom region\n",
    "    bottom_triangles_mask = np.isin(cavity_triangles.ravel(), bottom_vertex_indices).reshape(cavity_triangles.shape)\n",
    "    bottom_triangle_indices = np.where(np.all(bottom_triangles_mask, axis=1))[0]\n",
    "    \n",
    "    if len(bottom_triangle_indices) == 0:\n",
    "        print(\"No triangles found in the bottom region. Try adjusting the threshold.\")\n",
    "        return None\n",
    "    \n",
    "    # Create a new mesh for the bottom surface\n",
    "    bottom_triangles = cavity_triangles[bottom_triangle_indices]\n",
    "    \n",
    "    # Get unique vertices used in the bottom triangles\n",
    "    unique_vertices = np.unique(bottom_triangles.ravel())\n",
    "    \n",
    "    # Create index mapping\n",
    "    index_map = np.zeros(len(cavity_vertices), dtype=int)\n",
    "    for i, idx in enumerate(unique_vertices):\n",
    "        index_map[idx] = i\n",
    "    \n",
    "    # Remap triangle indices\n",
    "    remapped_triangles = np.zeros_like(bottom_triangles)\n",
    "    for i in range(bottom_triangles.shape[0]):\n",
    "        for j in range(3):\n",
    "            remapped_triangles[i, j] = index_map[bottom_triangles[i, j]]\n",
    "    \n",
    "    # Create bottom surface mesh\n",
    "    bottom_mesh = o3d.geometry.TriangleMesh()\n",
    "    bottom_mesh.vertices = o3d.utility.Vector3dVector(cavity_vertices[unique_vertices])\n",
    "    bottom_mesh.triangles = o3d.utility.Vector3iVector(remapped_triangles)\n",
    "    bottom_mesh.compute_vertex_normals()\n",
    "    \n",
    "    # Set color for visualization\n",
    "    bottom_colors = np.ones((len(unique_vertices), 3)) * [0, 0, 1]  # Blue for bottom surface\n",
    "    bottom_mesh.vertex_colors = o3d.utility.Vector3dVector(bottom_colors)\n",
    "    \n",
    "    return bottom_mesh"
   ]
  },
  {
   "cell_type": "markdown",
   "metadata": {},
   "source": [
    "### The function that calulates the cavity_bottom roughness"
   ]
  },
  {
   "cell_type": "code",
   "execution_count": 5,
   "metadata": {},
   "outputs": [],
   "source": [
    "def calculate_roughness(mesh):\n",
    "    mesh_vertices = np.asarray(mesh.vertices)\n",
    "    mesh_faces = np.asarray(mesh.triangles)\n",
    "    tri_mesh = trimesh.Trimesh(vertices=mesh_vertices, faces=mesh_faces, process=False)\n",
    "    normals = tri_mesh.face_normals\n",
    "    adj = tri_mesh.face_adjacency\n",
    "\n",
    "    # Compute angle between adjacent face normals\n",
    "    dot = np.einsum('ij,ij->i', normals[adj[:, 0]], normals[adj[:, 1]])\n",
    "    angles = np.arccos(np.clip(dot, -1.0, 1.0)) # Mean angle\n",
    "    angles_deg = np.degrees(angles) # roughness\n",
    "    return angles_deg\n"
   ]
  },
  {
   "cell_type": "markdown",
   "metadata": {},
   "source": [
    "### kavitenin seçilmesi "
   ]
  },
  {
   "cell_type": "code",
   "execution_count": 6,
   "metadata": {},
   "outputs": [],
   "source": [
    "cavity_indices = np.where(mean_curvature < 0.4)[0]  # Select all vertices with negative curvature\n",
    "largest_cavity_mesh, largest_cavity_indices = extract_largest_cavity(vertices, faces, cavity_indices)\n",
    "cavity_vertices= np.asarray(largest_cavity_mesh.vertices)\n"
   ]
  },
  {
   "cell_type": "markdown",
   "metadata": {},
   "source": [
    "### Kavitenin alt kısmının seçilmesi ve kavite yüksekliğinin hesaplanması"
   ]
  },
  {
   "cell_type": "code",
   "execution_count": 7,
   "metadata": {},
   "outputs": [],
   "source": [
    "cavity_bottom = extract_cavity_bottom(largest_cavity_mesh, threshold_percentage=0.4)\n",
    "\n",
    "# kavite altının z eksenindeki ortalamasını al\n",
    "bottom_vertices = np.asarray(cavity_bottom.vertices)\n",
    "bottom_z_values = bottom_vertices[:, 2]\n",
    "min_z_mean = np.mean(bottom_z_values) \n",
    "\n",
    "# kavite alanının en üstü \n",
    "max_z = np.max(cavity_vertices[:, 2])\n",
    "cavity_depth = max_z - min_z_mean  # Derinlik (Z eksenindeki fark)\n",
    "\n"
   ]
  },
  {
   "cell_type": "markdown",
   "metadata": {},
   "source": [
    "### Roughness Hesaplanması"
   ]
  },
  {
   "cell_type": "code",
   "execution_count": 8,
   "metadata": {},
   "outputs": [],
   "source": [
    "\n",
    "outline_indices = np.where((mean_curvature > 3.0))[0]\n",
    "roughness = calculate_roughness(cavity_bottom)"
   ]
  },
  {
   "cell_type": "code",
   "execution_count": 28,
   "metadata": {},
   "outputs": [],
   "source": [
    "\n",
    "def create_cylinder_between_points(point1, point2, radius=0.01, resolution=20, color=None):\n",
    "    \"\"\"\n",
    "    Create a cylinder mesh between two points.\n",
    "    \n",
    "    Args:\n",
    "        point1: Starting point as [x, y, z]\n",
    "        point2: Ending point as [x, y, z]\n",
    "        radius: Radius of the cylinder\n",
    "        resolution: Number of segments for the cylinder\n",
    "        color: RGB color as [r, g, b] where each value is between 0 and 1\n",
    "    \n",
    "    Returns:\n",
    "        cylinder_mesh: An Open3D mesh representing the cylinder\n",
    "    \"\"\"\n",
    "    # Convert points to numpy arrays\n",
    "    point1 = np.asarray(point1)\n",
    "    point2 = np.asarray(point2)\n",
    "    \n",
    "    # Calculate the direction vector from point1 to point2\n",
    "    direction = point2 - point1\n",
    "    length = np.linalg.norm(direction)\n",
    "    \n",
    "    # Create a cylinder along the Z-axis\n",
    "    cylinder = o3d.geometry.TriangleMesh.create_cylinder(radius=radius, height=length, resolution=resolution)\n",
    "    \n",
    "    # Compute the rotation to align with the direction vector\n",
    "    # First, we need to find the rotation axis and angle\n",
    "    z_axis = np.array([0, 0, 1])\n",
    "    direction_normalized = direction / length\n",
    "    \n",
    "    # Compute the rotation axis via cross product\n",
    "    rotation_axis = np.cross(z_axis, direction_normalized)\n",
    "    \n",
    "    # If points are aligned along Z-axis, rotation axis will be zero\n",
    "    if np.linalg.norm(rotation_axis) < 1e-6:\n",
    "        # Check if direction is parallel or anti-parallel to z_axis\n",
    "        if direction_normalized[2] > 0:\n",
    "            # Parallel - no rotation needed\n",
    "            rotation_matrix = np.eye(3)\n",
    "        else:\n",
    "            # Anti-parallel - rotate 180 degrees around X-axis\n",
    "            rotation_matrix = np.array([\n",
    "                [1, 0, 0],\n",
    "                [0, -1, 0],\n",
    "                [0, 0, -1]\n",
    "            ])\n",
    "    else:\n",
    "        # Normalize rotation axis\n",
    "        rotation_axis = rotation_axis / np.linalg.norm(rotation_axis)\n",
    "        \n",
    "        # Compute rotation angle using dot product\n",
    "        cos_angle = np.dot(z_axis, direction_normalized)\n",
    "        angle = np.arccos(cos_angle)\n",
    "        \n",
    "        # Convert axis-angle to rotation matrix using Rodrigues' formula\n",
    "        cross_matrix = np.array([\n",
    "            [0, -rotation_axis[2], rotation_axis[1]],\n",
    "            [rotation_axis[2], 0, -rotation_axis[0]],\n",
    "            [-rotation_axis[1], rotation_axis[0], 0]\n",
    "        ])\n",
    "        rotation_matrix = np.eye(3) + np.sin(angle) * cross_matrix + (1 - np.cos(angle)) * (cross_matrix @ cross_matrix)\n",
    "    \n",
    "    # Rotate the cylinder to align with the direction\n",
    "    cylinder.rotate(rotation_matrix, center=np.array([0, 0, 0]))\n",
    "    \n",
    "    # Translate the cylinder to start at point1\n",
    "    cylinder.translate(point1 + direction_normalized * (length / 2))\n",
    "    \n",
    "    # Set the color if provided\n",
    "    if color is not None:\n",
    "        cylinder.paint_uniform_color(color)\n",
    "    \n",
    "    return cylinder\n"
   ]
  },
  {
   "cell_type": "markdown",
   "metadata": {},
   "source": [
    "### Görüntüleme"
   ]
  },
  {
   "cell_type": "code",
   "execution_count": 35,
   "metadata": {},
   "outputs": [
    {
     "name": "stdout",
     "output_type": "stream",
     "text": [
      "cavity_depth :  2.0301277332356844\n",
      "roughness :  [18.09196629  3.21604171  7.5380052  ...  9.02044369  0.92320791\n",
      " 10.34273216]\n"
     ]
    },
    {
     "data": {
      "text/plain": [
       "True"
      ]
     },
     "execution_count": 35,
     "metadata": {},
     "output_type": "execute_result"
    }
   ],
   "source": [
    "# **Çizgiyi tanımlama**\n",
    "cavity_centroid = np.mean(cavity_vertices, axis=0)\n",
    "min_z_point = [cavity_centroid[0], cavity_centroid[1], min_z_mean]\n",
    "max_z_point = [cavity_centroid[0], cavity_centroid[1], max_z]\n",
    "cylinder_mesh = create_cylinder_between_points(min_z_point, max_z_point)\n",
    "\n",
    "print(\"cavity_depth : \",cavity_depth)\n",
    "print(\"roughness : \",roughness)\n",
    "combined = cavity_bottom + cylinder_mesh\n",
    "\n",
    "\n",
    "# =line_set_to_cylinder_mesh(line_set)\n",
    "cylinder_mesh.compute_vertex_normals()\n",
    "o3d.io.write_triangle_mesh(\"output/cylinder_mesh.stl\", cylinder_mesh)\n"
   ]
  },
  {
   "cell_type": "code",
   "execution_count": null,
   "metadata": {},
   "outputs": [],
   "source": []
  }
 ],
 "metadata": {
  "kernelspec": {
   "display_name": "Python 3",
   "language": "python",
   "name": "python3"
  },
  "language_info": {
   "codemirror_mode": {
    "name": "ipython",
    "version": 3
   },
   "file_extension": ".py",
   "mimetype": "text/x-python",
   "name": "python",
   "nbconvert_exporter": "python",
   "pygments_lexer": "ipython3",
   "version": "3.10.11"
  }
 },
 "nbformat": 4,
 "nbformat_minor": 2
}
