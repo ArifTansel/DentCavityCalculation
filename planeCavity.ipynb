{
 "cells": [
  {
   "cell_type": "code",
   "execution_count": 1,
   "metadata": {},
   "outputs": [
    {
     "name": "stderr",
     "output_type": "stream",
     "text": [
      "C:\\Users\\Arif\\AppData\\Local\\Packages\\PythonSoftwareFoundation.Python.3.10_qbz5n2kfra8p0\\LocalCache\\local-packages\\Python310\\site-packages\\requests\\__init__.py:102: RequestsDependencyWarning: urllib3 (1.26.9) or chardet (5.2.0)/charset_normalizer (2.0.12) doesn't match a supported version!\n",
      "  warnings.warn(\"urllib3 ({}) or chardet ({})/charset_normalizer ({}) doesn't match a supported \"\n"
     ]
    },
    {
     "name": "stdout",
     "output_type": "stream",
     "text": [
      "Jupyter environment detected. Enabling Open3D WebVisualizer.\n",
      "[Open3D INFO] WebRTC GUI backend enabled.\n",
      "[Open3D INFO] WebRTCWindowSystem: HTTP handshake server disabled.\n"
     ]
    }
   ],
   "source": [
    "import trimesh\n",
    "import open3d as o3d\n",
    "import numpy as np\n",
    "from sklearn.cluster import DBSCAN\n",
    "from sklearn.linear_model import RANSACRegressor\n",
    "from sklearn.preprocessing import PolynomialFeatures\n"
   ]
  },
  {
   "cell_type": "code",
   "execution_count": 2,
   "metadata": {},
   "outputs": [],
   "source": [
    "mesh_trimesh = trimesh.load_mesh(\"duzen2.stl\")\n",
    "\n",
    "# Get vertices, faces, and normals\n",
    "vertices = np.array(mesh_trimesh.vertices)\n",
    "faces = np.array(mesh_trimesh.faces)\n",
    "normals = np.array(mesh_trimesh.vertex_normals)\n",
    "\n",
    "\n",
    "# Eğrilik ölçümü (örnek olarak kullanılıyor)\n",
    "mean_curvature = trimesh.curvature.discrete_mean_curvature_measure(mesh_trimesh, mesh_trimesh.vertices, radius=2)\n"
   ]
  },
  {
   "cell_type": "code",
   "execution_count": 3,
   "metadata": {},
   "outputs": [],
   "source": [
    "def get_largest_cavity(vertices, faces, mean_curvature):\n",
    "    # Calculate curvature threshold to define cavities\n",
    "    curvature_threshold = np.percentile(mean_curvature, 14)\n",
    "    \n",
    "    # Find indices of vertices in cavities\n",
    "    cavity_indices = np.where(mean_curvature < curvature_threshold)[0]\n",
    "    \n",
    "    # Get faces corresponding to cavity vertices\n",
    "    cavity_faces = faces[np.isin(faces, cavity_indices).any(axis=1)]\n",
    "    \n",
    "    # Find unique vertices in cavity faces\n",
    "    cavity_vertices = np.unique(cavity_faces)\n",
    "    \n",
    "    # If no cavities found, return empty array\n",
    "    if len(cavity_vertices) == 0:\n",
    "        return np.array([])\n",
    "    \n",
    "    # Cluster cavity vertices to distinguish separate cavities\n",
    "    cavity_points = vertices[cavity_vertices]\n",
    "    \n",
    "    # Use DBSCAN to cluster cavity regions\n",
    "    clustering = DBSCAN(eps=1.0, min_samples=5).fit(cavity_points)\n",
    "    labels = clustering.labels_\n",
    "    \n",
    "    # Find the largest cavity cluster\n",
    "    unique_labels, label_counts = np.unique(labels, return_counts=True)\n",
    "    \n",
    "    # Exclude noise points (label -1)\n",
    "    valid_labels = unique_labels[unique_labels != -1]\n",
    "    valid_counts = label_counts[unique_labels != -1]\n",
    "    \n",
    "    if len(valid_labels) == 0:\n",
    "        return np.array([])\n",
    "    \n",
    "    # Get the label of the largest cavity cluster\n",
    "    largest_cavity_label = valid_labels[np.argmax(valid_counts)]\n",
    "    \n",
    "    # Get indices of vertices in the largest cavity\n",
    "    largest_cavity_mask = labels == largest_cavity_label\n",
    "    largest_cavity_vertices = cavity_vertices[largest_cavity_mask]\n",
    "    \n",
    "    return largest_cavity_vertices"
   ]
  },
  {
   "cell_type": "code",
   "execution_count": 4,
   "metadata": {},
   "outputs": [],
   "source": [
    "def extract_cavity_bottom_surface(vertices, faces, cavity_vertices):\n",
    "    \"\"\"\n",
    "    Extract the bottom surface indices of the cavity using RANSAC.\n",
    "    \n",
    "    Args:\n",
    "        vertices (np.ndarray): All mesh vertices\n",
    "        faces (np.ndarray): All mesh faces\n",
    "        cavity_vertices (np.ndarray): Indices of vertices in the cavity\n",
    "    \n",
    "    Returns:\n",
    "        np.ndarray: Indices of vertices forming the bottom surface of the cavity\n",
    "    \"\"\"\n",
    "    # Get the cavity vertices coordinates\n",
    "    cavity_points = vertices[cavity_vertices]\n",
    "    # Prepare data for RANSAC\n",
    "    # Use x and y coordinates to predict z\n",
    "    X = cavity_points[:, :2]  # x and y coordinates\n",
    "    y = cavity_points[:, 2]   # z coordinate\n",
    "    \n",
    "    # Use polynomial features to fit a plane\n",
    "    poly_features = PolynomialFeatures(degree=1, include_bias=False)\n",
    "    X_poly = poly_features.fit_transform(X)\n",
    "    \n",
    "    # RANSAC regression to find the bottom surface plane\n",
    "    ransac = RANSACRegressor(\n",
    "        random_state=42, \n",
    "        max_trials=100,\n",
    "        residual_threshold=1.0\n",
    "    )\n",
    "    \n",
    "    # Fit RANSAC\n",
    "    ransac.fit(X_poly, y)\n",
    "    \n",
    "    # Predict z values for all cavity points\n",
    "    y_pred = ransac.predict(poly_features.transform(X))\n",
    "    \n",
    "    # Find points close to the estimated plane\n",
    "    residuals = np.abs(y - y_pred)\n",
    "    \n",
    "    # Define bottom surface as points within a small threshold of the plane\n",
    "    bottom_surface_mask = residuals <= np.percentile(residuals, 65)\n",
    "    \n",
    "    # Get indices of bottom surface vertices\n",
    "    bottom_surface_indices = cavity_vertices[bottom_surface_mask]\n",
    "    \n",
    "    return bottom_surface_indices"
   ]
  },
  {
   "cell_type": "code",
   "execution_count": null,
   "metadata": {},
   "outputs": [],
   "source": [
    "\n",
    "cavity_indices = np.where(mean_curvature < 0.4)[0]  # Select all vertices with negative curvature\n",
    "outline_indices = np.where((mean_curvature > 2.5))[0]\n",
    "cavity_faces = faces[cavity_indices]\n",
    "curvature_threshold = np.percentile(mean_curvature, 14)\n",
    "\n",
    "\n",
    "cavity_vertices = vertices[np.unique(cavity_faces)]\n",
    "\n",
    "largest_cavity = get_largest_cavity(vertices, faces, mean_curvature)\n",
    "\n",
    "cavity_surface_vertices= extract_cavity_bottom_surface(vertices,faces,largest_cavity)\n",
    "\n",
    "\n",
    "mesh_o3d = o3d.geometry.TriangleMesh()\n",
    "mesh_o3d.vertices = o3d.utility.Vector3dVector(vertices)\n",
    "mesh_o3d.triangles = o3d.utility.Vector3iVector(faces)\n",
    "mesh_o3d.compute_vertex_normals()\n",
    "\n",
    "colors = np.ones((vertices.shape[0], 3)) * 0.7  # Light gray for normal surface\n",
    "colors[outline_indices] = [1, 0, 0]  # Red for outline\n",
    "colors[cavity_surface_vertices] = [0, 1, 0]  # Green for cavities\n",
    "\n",
    "mesh_o3d.vertex_colors = o3d.utility.Vector3dVector(colors)\n",
    "coordinate_frame = o3d.geometry.TriangleMesh.create_coordinate_frame(size=3)\n",
    "# Visualize tooth with cavity detection\n",
    "o3d.visualization.draw_geometries([mesh_o3d,coordinate_frame])"
   ]
  },
  {
   "cell_type": "code",
   "execution_count": null,
   "metadata": {},
   "outputs": [],
   "source": []
  },
  {
   "cell_type": "code",
   "execution_count": null,
   "metadata": {},
   "outputs": [],
   "source": []
  }
 ],
 "metadata": {
  "kernelspec": {
   "display_name": "Python 3",
   "language": "python",
   "name": "python3"
  },
  "language_info": {
   "codemirror_mode": {
    "name": "ipython",
    "version": 3
   },
   "file_extension": ".py",
   "mimetype": "text/x-python",
   "name": "python",
   "nbconvert_exporter": "python",
   "pygments_lexer": "ipython3",
   "version": "3.10.11"
  }
 },
 "nbformat": 4,
 "nbformat_minor": 2
}
