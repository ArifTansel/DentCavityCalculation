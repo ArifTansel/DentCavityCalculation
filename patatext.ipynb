{
 "cells": [
  {
   "cell_type": "markdown",
   "metadata": {},
   "source": [
    "## Imports"
   ]
  },
  {
   "cell_type": "code",
   "execution_count": 19,
   "metadata": {},
   "outputs": [],
   "source": [
    "import trimesh\n",
    "import open3d as o3d\n",
    "import numpy as np\n",
    "from sklearn.cluster import KMeans\n",
    "from scipy.sparse import csr_matrix\n",
    "from scipy.sparse.csgraph import connected_components\n",
    "from open3d.visualization import gui\n",
    "from open3d.visualization import rendering\n",
    "from sklearn.decomposition import PCA\n",
    "import matplotlib.pyplot as plt"
   ]
  },
  {
   "cell_type": "markdown",
   "metadata": {},
   "source": [
    "### Load and compute the mean curvature"
   ]
  },
  {
   "cell_type": "code",
   "execution_count": 13,
   "metadata": {},
   "outputs": [
    {
     "name": "stdout",
     "output_type": "stream",
     "text": [
      "Discrete Mean curvature calculated\n"
     ]
    }
   ],
   "source": [
    "# Load the tooth STL model using Trimesh\n",
    "mesh_trimesh = trimesh.load_mesh(\"stlFiles/sinifBirNumaraAlti.stl\")\n",
    "\n",
    "# Get vertices, faces, and normals\n",
    "vertices = np.array(mesh_trimesh.vertices)\n",
    "faces = np.array(mesh_trimesh.faces)\n",
    "normals = np.array(mesh_trimesh.vertex_normals)\n",
    "\n",
    "# Compute Mean Curvature using Trimesh\n",
    "mean_curvature = trimesh.curvature.discrete_mean_curvature_measure(mesh_trimesh, mesh_trimesh.vertices, radius=2)\n",
    "print('Discrete Mean curvature calculated')\n"
   ]
  },
  {
   "cell_type": "markdown",
   "metadata": {},
   "source": [
    "### The function that extracts the cavity from the tooth model"
   ]
  },
  {
   "cell_type": "code",
   "execution_count": 14,
   "metadata": {},
   "outputs": [],
   "source": [
    "def extract_largest_cavity(vertices, faces, cavity_indices):\n",
    "    # Get unique cavity indices\n",
    "    unique_cavity_indices = np.unique(cavity_indices)\n",
    "    \n",
    "    # Find faces that have all vertices in cavity_indices\n",
    "    cavity_face_mask = np.isin(faces.ravel(), unique_cavity_indices).reshape(faces.shape)\n",
    "    cavity_face_indices = np.where(np.all(cavity_face_mask, axis=1))[0]\n",
    "    cavity_faces = faces[cavity_face_indices]\n",
    "    \n",
    "    # Create adjacency matrix for connected component analysis\n",
    "    edges = set()\n",
    "    for face in cavity_faces:\n",
    "        edges.add((face[0], face[1]))\n",
    "        edges.add((face[1], face[2]))\n",
    "        edges.add((face[2], face[0]))\n",
    "    \n",
    "    # Create sparse adjacency matrix\n",
    "    row, col = zip(*edges)\n",
    "    row = np.array(row)\n",
    "    col = np.array(col)\n",
    "    data = np.ones_like(row)\n",
    "    \n",
    "    # Create sparse matrix with size equal to total vertices \n",
    "    # (will be pruned to cavity vertices later)\n",
    "    adj_matrix = csr_matrix((data, (row, col)), shape=(vertices.shape[0], vertices.shape[0]))\n",
    "    \n",
    "    # Find connected components\n",
    "    n_components, labels = connected_components(csgraph=adj_matrix, directed=False)\n",
    "    \n",
    "    # Count vertices in each component\n",
    "    component_sizes = np.zeros(n_components, dtype=int)\n",
    "    for label in labels[unique_cavity_indices]:\n",
    "        component_sizes[label] += 1\n",
    "    \n",
    "    # Find the largest component\n",
    "    largest_component = np.argmax(component_sizes)\n",
    "    \n",
    "    # Get vertices from the largest component\n",
    "    largest_cavity_indices = np.where(labels == largest_component)[0]\n",
    "    largest_cavity_indices = np.intersect1d(largest_cavity_indices, unique_cavity_indices)\n",
    "    \n",
    "    # Create index mapping for new mesh\n",
    "    index_map = np.zeros(len(vertices), dtype=int)\n",
    "    for i, idx in enumerate(largest_cavity_indices):\n",
    "        index_map[idx] = i\n",
    "    \n",
    "    # Get faces for largest component\n",
    "    largest_face_mask = np.isin(cavity_faces.ravel(), largest_cavity_indices).reshape(cavity_faces.shape)\n",
    "    largest_face_indices = np.where(np.all(largest_face_mask, axis=1))[0]\n",
    "    largest_cavity_faces = cavity_faces[largest_face_indices]\n",
    "    \n",
    "    # Remap face indices\n",
    "    remapped_faces = np.zeros_like(largest_cavity_faces)\n",
    "    for i in range(largest_cavity_faces.shape[0]):\n",
    "        for j in range(3):\n",
    "            remapped_faces[i, j] = index_map[largest_cavity_faces[i, j]]\n",
    "    \n",
    "    # Create and return the largest cavity mesh\n",
    "    largest_cavity_mesh = o3d.geometry.TriangleMesh()\n",
    "    largest_cavity_mesh.vertices = o3d.utility.Vector3dVector(vertices[largest_cavity_indices])\n",
    "    largest_cavity_mesh.triangles = o3d.utility.Vector3iVector(remapped_faces)\n",
    "    largest_cavity_mesh.compute_vertex_normals()\n",
    "    \n",
    "    # Set color for visualization\n",
    "    cavity_colors = np.ones((len(largest_cavity_indices), 3)) * [0, 1, 0]  # Green\n",
    "    largest_cavity_mesh.vertex_colors = o3d.utility.Vector3dVector(cavity_colors)\n",
    "    \n",
    "    return largest_cavity_mesh, largest_cavity_indices"
   ]
  },
  {
   "cell_type": "markdown",
   "metadata": {},
   "source": [
    "### The function that extracts the cavity bottom "
   ]
  },
  {
   "cell_type": "code",
   "execution_count": 4,
   "metadata": {},
   "outputs": [],
   "source": [
    "def extract_cavity_bottom(largest_cavity_mesh, threshold_percentage=0.1):\n",
    "    # Get vertices and triangles from the mesh\n",
    "    cavity_vertices = np.asarray(largest_cavity_mesh.vertices)\n",
    "    cavity_triangles = np.asarray(largest_cavity_mesh.triangles)\n",
    "    \n",
    "    # Calculate z-range\n",
    "    min_z = np.min(cavity_vertices[:, 2])\n",
    "    max_z = np.max(cavity_vertices[:, 2])\n",
    "    z_range = max_z - min_z\n",
    "    \n",
    "    # Define a threshold for what constitutes the \"bottom\"\n",
    "    # Here we're considering the bottom 10% of the cavity's depth\n",
    "    z_threshold = min_z + z_range * threshold_percentage\n",
    "    \n",
    "    # Find vertices that are in the bottom region\n",
    "    bottom_vertex_mask = cavity_vertices[:, 2] <= z_threshold\n",
    "    bottom_vertex_indices = np.where(bottom_vertex_mask)[0]\n",
    "    \n",
    "    # Find triangles where all three vertices are in the bottom region\n",
    "    bottom_triangles_mask = np.isin(cavity_triangles.ravel(), bottom_vertex_indices).reshape(cavity_triangles.shape)\n",
    "    bottom_triangle_indices = np.where(np.all(bottom_triangles_mask, axis=1))[0]\n",
    "    \n",
    "    if len(bottom_triangle_indices) == 0:\n",
    "        print(\"No triangles found in the bottom region. Try adjusting the threshold.\")\n",
    "        return None\n",
    "    \n",
    "    # Create a new mesh for the bottom surface\n",
    "    bottom_triangles = cavity_triangles[bottom_triangle_indices]\n",
    "    \n",
    "    # Get unique vertices used in the bottom triangles\n",
    "    unique_vertices = np.unique(bottom_triangles.ravel())\n",
    "    \n",
    "    # Create index mapping\n",
    "    index_map = np.zeros(len(cavity_vertices), dtype=int)\n",
    "    for i, idx in enumerate(unique_vertices):\n",
    "        index_map[idx] = i\n",
    "    \n",
    "    # Remap triangle indices\n",
    "    remapped_triangles = np.zeros_like(bottom_triangles)\n",
    "    for i in range(bottom_triangles.shape[0]):\n",
    "        for j in range(3):\n",
    "            remapped_triangles[i, j] = index_map[bottom_triangles[i, j]]\n",
    "    \n",
    "    # Create bottom surface mesh\n",
    "    bottom_mesh = o3d.geometry.TriangleMesh()\n",
    "    bottom_mesh.vertices = o3d.utility.Vector3dVector(cavity_vertices[unique_vertices])\n",
    "    bottom_mesh.triangles = o3d.utility.Vector3iVector(remapped_triangles)\n",
    "    bottom_mesh.compute_vertex_normals()\n",
    "    \n",
    "    # Set color for visualization\n",
    "    bottom_colors = np.ones((len(unique_vertices), 3)) * [0, 0, 1]  # Blue for bottom surface\n",
    "    bottom_mesh.vertex_colors = o3d.utility.Vector3dVector(bottom_colors)\n",
    "    \n",
    "    return bottom_mesh"
   ]
  },
  {
   "cell_type": "markdown",
   "metadata": {},
   "source": [
    "### The function that calulates the cavity_bottom roughness"
   ]
  },
  {
   "cell_type": "code",
   "execution_count": 5,
   "metadata": {},
   "outputs": [],
   "source": [
    "def calculate_roughness(mesh):\n",
    "    mesh_vertices = np.asarray(mesh.vertices)\n",
    "    mesh_faces = np.asarray(mesh.triangles)\n",
    "    tri_mesh = trimesh.Trimesh(vertices=mesh_vertices, faces=mesh_faces, process=False)\n",
    "    normals = tri_mesh.face_normals\n",
    "    adj = tri_mesh.face_adjacency\n",
    "\n",
    "    # Compute angle between adjacent face normals\n",
    "    dot = np.einsum('ij,ij->i', normals[adj[:, 0]], normals[adj[:, 1]])\n",
    "    angles = np.arccos(np.clip(dot, -1.0, 1.0)) # Mean angle\n",
    "    angles_deg = np.degrees(angles) # roughness\n",
    "    return angles_deg\n"
   ]
  },
  {
   "cell_type": "markdown",
   "metadata": {},
   "source": [
    "### kavitenin seçilmesi "
   ]
  },
  {
   "cell_type": "code",
   "execution_count": 15,
   "metadata": {},
   "outputs": [],
   "source": [
    "cavity_indices = np.where(mean_curvature < 0.4)[0]  # Select all vertices with negative curvature\n",
    "largest_cavity_mesh, largest_cavity_indices = extract_largest_cavity(vertices, faces, cavity_indices)\n",
    "cavity_vertices= np.asarray(largest_cavity_mesh.vertices)\n"
   ]
  },
  {
   "cell_type": "markdown",
   "metadata": {},
   "source": [
    "### Experimental : Get OBBs and visualize them"
   ]
  },
  {
   "cell_type": "code",
   "execution_count": 20,
   "metadata": {},
   "outputs": [],
   "source": [
    "def get_rotation_matrix_from_two_vectors(v1, v2):\n",
    "    \"\"\"\n",
    "    Return a rotation matrix that rotates vector v1 to align with vector v2.\n",
    "    \"\"\"\n",
    "    v1 = v1 / np.linalg.norm(v1)\n",
    "    v2 = v2 / np.linalg.norm(v2)\n",
    "\n",
    "    cross = np.cross(v1, v2)\n",
    "    dot = np.dot(v1, v2)\n",
    "\n",
    "    if np.isclose(dot, -1.0):\n",
    "        # Opposite vectors – rotate 180 degrees around any perpendicular axis\n",
    "        orthogonal = np.array([1, 0, 0]) if not np.allclose(v1, [1, 0, 0]) else np.array([0, 1, 0])\n",
    "        axis = np.cross(v1, orthogonal)\n",
    "        axis /= np.linalg.norm(axis)\n",
    "        angle = np.pi\n",
    "    elif np.isclose(dot, 1.0):\n",
    "        return np.eye(3)\n",
    "    else:\n",
    "        axis = cross / np.linalg.norm(cross)\n",
    "        angle = np.arccos(dot)\n",
    "\n",
    "    K = np.array([\n",
    "        [0, -axis[2], axis[1]],\n",
    "        [axis[2], 0, -axis[0]],\n",
    "        [-axis[1], axis[0], 0]\n",
    "    ])\n",
    "\n",
    "    R = np.eye(3) + np.sin(angle) * K + (1 - np.cos(angle)) * (K @ K)\n",
    "    return R\n"
   ]
  },
  {
   "cell_type": "code",
   "execution_count": 28,
   "metadata": {},
   "outputs": [
    {
     "name": "stdout",
     "output_type": "stream",
     "text": [
      "\n",
      "📏 Tooth OBB Dimensions (X,Y,Z): [12.21253385 11.92310044  8.93872114]\n",
      "📏 Cavity OBB Dimensions (X,Y,Z): [8.46000958 3.66252435 2.58655567]\n",
      "\n",
      "🦷 Estimated Axis Directions (rows = principal axes):\n",
      " [[ 0.99423497  0.10329265  0.02876544]\n",
      " [-0.1036276   0.99456176  0.01040337]\n",
      " [-0.02753441 -0.01332429  0.99953205]]\n",
      "\n",
      "📏 Tooth Dimensions along PCA axes (in mm):\n",
      "  Axis 1 (Likely Buccolingual): 11.885112589965956\n",
      "  Axis 2 (Likely Mesiolingual or Mesiodistal): 11.052254831991833\n",
      "  Axis 3 (Likely Occluso-apical or height): 8.334168612283754\n"
     ]
    }
   ],
   "source": [
    "# Convert full tooth to Open3D mesh\n",
    "tooth_o3d = o3d.geometry.TriangleMesh()\n",
    "tooth_o3d.vertices = o3d.utility.Vector3dVector(vertices)\n",
    "tooth_o3d.triangles = o3d.utility.Vector3iVector(faces)\n",
    "tooth_o3d.compute_vertex_normals()\n",
    "tooth_o3d.paint_uniform_color([0.8, 0.8, 0.8])  # light gray\n",
    "\n",
    "# ---------------------------------------------------\n",
    "# 🟩 Compute OBBs\n",
    "# ---------------------------------------------------\n",
    "\n",
    "tooth_obb = tooth_o3d.get_oriented_bounding_box()\n",
    "tooth_obb.color = (0.0, 0.0, 1.0)  # blue\n",
    "\n",
    "cavity_obb = largest_cavity_mesh.get_oriented_bounding_box()\n",
    "cavity_obb.color = (1.0, 0.0, 0.0)  # red\n",
    "\n",
    "# ---------------------------------------------------\n",
    "# 🧮 Get dimensions\n",
    "# ---------------------------------------------------\n",
    "\n",
    "def get_obb_dims(obb):\n",
    "    extent = obb.extent  # [width, height, depth] along principal axes\n",
    "    R = obb.R  # rotation matrix\n",
    "    axes = R.T  # columns of R are direction vectors\n",
    "    return extent, axes, obb.center\n",
    "\n",
    "tooth_extent, tooth_axes, tooth_center = get_obb_dims(tooth_obb)\n",
    "cavity_extent, cavity_axes, cavity_center = get_obb_dims(cavity_obb)\n",
    "\n",
    "print(\"\\n📏 Tooth OBB Dimensions (X,Y,Z):\", tooth_extent)\n",
    "print(\"📏 Cavity OBB Dimensions (X,Y,Z):\", cavity_extent)\n",
    "\n",
    "# ---------------------------------------------------\n",
    "# 🧭 Visualize Arrows for Length / Height / Depth\n",
    "# ---------------------------------------------------\n",
    "\n",
    "def create_arrow(center, axis, length, color):\n",
    "    arrow = o3d.geometry.TriangleMesh.create_arrow(\n",
    "        cylinder_radius=0.2,\n",
    "        cone_radius=0.4,\n",
    "        cylinder_height=length - 1.0,\n",
    "        cone_height=1.0,\n",
    "        resolution=20,\n",
    "        cylinder_split=4,\n",
    "        cone_split=1\n",
    "    )\n",
    "    arrow.paint_uniform_color(color)\n",
    "\n",
    "    # Align the arrow with the axis\n",
    "    default_dir = np.array([0, 1, 0])  # default arrow points in +Y\n",
    "    axis = axis / np.linalg.norm(axis)\n",
    "    rot_matrix = get_rotation_matrix_from_two_vectors(default_dir, axis)\n",
    "    arrow.rotate(rot_matrix, center=(0, 0, 0))\n",
    "\n",
    "    # Translate to center\n",
    "    arrow.translate(center)\n",
    "    return arrow\n",
    "\n",
    "# Arrows for cavity\n",
    "cavity_arrows = []\n",
    "colors = [(1, 0, 0), (0, 1, 0), (0, 0, 1)]  # X (red), Y (green), Z (blue)\n",
    "for i in range(3):\n",
    "    arrow = create_arrow(cavity_center, cavity_axes[i], cavity_extent[i], colors[i])\n",
    "    cavity_arrows.append(arrow)\n",
    "\n",
    "# Arrows for tooth\n",
    "tooth_arrows = []\n",
    "for i in range(3):\n",
    "    arrow = create_arrow(tooth_center, tooth_axes[i], tooth_extent[i], colors[i])\n",
    "    tooth_arrows.append(arrow)\n",
    "    \n",
    "points = np.asarray(tooth_o3d.vertices)\n",
    "\n",
    "# Run PCA to estimate axes of the tooth\n",
    "pca = PCA(n_components=3)\n",
    "pca.fit(points)\n",
    "axes = pca.components_  # Each row is a principal axis\n",
    "center = pca.mean_\n",
    "\n",
    "# Project all points to each axis\n",
    "projected = points - center\n",
    "projections = projected @ axes.T  # shape (N, 3)\n",
    "\n",
    "# Compute distances (peak-to-peak range along each axis)\n",
    "ranges = projections.ptp(axis=0)\n",
    "\n",
    "# Output approximate anatomical axis matches\n",
    "print(\"\\n🦷 Estimated Axis Directions (rows = principal axes):\\n\", axes)\n",
    "print(\"\\n📏 Tooth Dimensions along PCA axes (in mm):\")\n",
    "print(\"  Axis 1 (Likely Buccolingual):\", ranges[0])\n",
    "print(\"  Axis 2 (Likely Mesiolingual or Mesiodistal):\", ranges[1])\n",
    "print(\"  Axis 3 (Likely Occluso-apical or height):\", ranges[2])\n",
    "\n",
    "\n",
    "# ---------------------------------------------------\n",
    "# 🧿 Final Visualization\n",
    "# ---------------------------------------------------\n",
    "def create_axis_lines(center, axes, lengths, colors):\n",
    "    lines = []\n",
    "    for i in range(3):\n",
    "        p1 = center - axes[i] * lengths[i] / 2\n",
    "        p2 = center + axes[i] * lengths[i] / 2\n",
    "        line = o3d.geometry.LineSet(\n",
    "            points=o3d.utility.Vector3dVector([p1, p2]),\n",
    "            lines=o3d.utility.Vector2iVector([[0, 1]])\n",
    "        )\n",
    "        line.colors = o3d.utility.Vector3dVector([colors[i]])\n",
    "        lines.append(line)\n",
    "    return lines\n",
    "\n",
    "# Choose lengths based on PCA spread\n",
    "colors = [(1, 0, 0), (0, 1, 0), (0, 0, 1)]  # X = red, Y = green, Z = blue\n",
    "axis_lines = create_axis_lines(center, axes, ranges, colors)\n",
    "\n",
    "\n",
    "o3d.visualization.draw_geometries(\n",
    "    [\n",
    "        tooth_o3d,\n",
    "        largest_cavity_mesh,\n",
    "        tooth_obb,\n",
    "        cavity_obb,\n",
    "        *axis_lines\n",
    "        # *tooth_arrows,\n",
    "        # *cavity_arrows\n",
    "    ],\n",
    "    zoom=0.7,\n",
    "    mesh_show_back_face=True,\n",
    "    window_name=\"Tooth + Cavity OBBs\"\n",
    ")\n"
   ]
  },
  {
   "cell_type": "markdown",
   "metadata": {},
   "source": [
    "### Kavitenin alt kısmının seçilmesi ve kavite yüksekliğinin hesaplanması"
   ]
  },
  {
   "cell_type": "code",
   "execution_count": 29,
   "metadata": {},
   "outputs": [],
   "source": [
    "cavity_bottom = extract_cavity_bottom(largest_cavity_mesh, threshold_percentage=0.4)\n",
    "\n",
    "# kavite altının z eksenindeki ortalamasını al\n",
    "bottom_vertices = np.asarray(cavity_bottom.vertices)\n",
    "bottom_z_values = bottom_vertices[:, 2]\n",
    "min_z_mean = np.mean(bottom_z_values) \n",
    "\n",
    "# kavite alanının en üstü \n",
    "max_z = np.max(cavity_vertices[:, 2])\n",
    "cavity_depth = max_z - min_z_mean  # Derinlik (Z eksenindeki fark)\n",
    "\n"
   ]
  },
  {
   "cell_type": "markdown",
   "metadata": {},
   "source": [
    "### Roughness Hesaplanması"
   ]
  },
  {
   "cell_type": "code",
   "execution_count": 30,
   "metadata": {},
   "outputs": [
    {
     "name": "stdout",
     "output_type": "stream",
     "text": [
      "Mean angle between adjacent faces: 6.076013062789848\n",
      "Standard deviation (roughness): 4.213117516385517\n"
     ]
    }
   ],
   "source": [
    "\n",
    "outline_indices = np.where((mean_curvature > 3.0))[0]\n",
    "roughness = calculate_roughness(cavity_bottom)\n",
    "print(\"Mean angle between adjacent faces:\", np.mean(roughness))\n",
    "print(\"Standard deviation (roughness):\", np.std(roughness))"
   ]
  },
  {
   "cell_type": "markdown",
   "metadata": {},
   "source": [
    "### Görüntüleme"
   ]
  },
  {
   "cell_type": "code",
   "execution_count": 31,
   "metadata": {},
   "outputs": [
    {
     "name": "stdout",
     "output_type": "stream",
     "text": [
      "cavity_depth :  2.0301277332356844\n",
      "roughness :  [18.09196629  3.21604171  7.5380052  ...  9.02044369  0.92320791\n",
      " 10.34273216]\n"
     ]
    }
   ],
   "source": [
    "# **Çizgiyi tanımlama**\n",
    "cavity_centroid = np.mean(cavity_vertices, axis=0)\n",
    "min_z_point = [cavity_centroid[0], cavity_centroid[1], min_z_mean]\n",
    "max_z_point = [cavity_centroid[0], cavity_centroid[1], max_z]\n",
    "line_set = o3d.geometry.LineSet()\n",
    "line_set.points = o3d.utility.Vector3dVector([min_z_point, max_z_point])\n",
    "line_set.lines = o3d.utility.Vector2iVector([[0, 1]])\n",
    "line_set.colors = o3d.utility.Vector3dVector([[1, 0, 0]])  # Mavi çizgi\n",
    "\n",
    "print(\"cavity_depth : \",cavity_depth)\n",
    "print(\"roughness : \",roughness)\n",
    "\n",
    "\n",
    "o3d.visualization.draw_geometries([line_set,cavity_bottom])"
   ]
  }
 ],
 "metadata": {
  "kernelspec": {
   "display_name": "Python 3",
   "language": "python",
   "name": "python3"
  },
  "language_info": {
   "codemirror_mode": {
    "name": "ipython",
    "version": 3
   },
   "file_extension": ".py",
   "mimetype": "text/x-python",
   "name": "python",
   "nbconvert_exporter": "python",
   "pygments_lexer": "ipython3",
   "version": "3.12.9"
  }
 },
 "nbformat": 4,
 "nbformat_minor": 2
}
