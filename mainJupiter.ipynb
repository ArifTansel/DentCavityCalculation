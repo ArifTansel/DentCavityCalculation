{
 "cells": [
  {
   "cell_type": "code",
   "execution_count": 138,
   "metadata": {},
   "outputs": [],
   "source": [
    "## Imports\n",
    "import trimesh\n",
    "import open3d as o3d\n",
    "import numpy as np\n",
    "from sklearn.cluster import KMeans\n",
    "import os\n",
    "import argparse\n",
    "import json\n",
    "\n",
    "from utils import extract_largest_cavity, extract_cavity_parts ,extract_top_percentage\n",
    "from utils import show_mesh_dimensions_with_cylinders, visualize_roughness, create_cylinder_between_points\n",
    "from utils import split_side_and_get_normal_means, calculate_roughness, discrete_mean_curvature_measure_gpu\n",
    "\n",
    "\n",
    "BOTTOM_THRESHOLD_PERCENTAGE= 0.4\n",
    "MEAN_CURVATURE_RADİUS= 2\n",
    "TOOTH_PERCENTAGE = 28.0\n",
    "CAVITY_PERCENTAGE = 20.0\n",
    "\n"
   ]
  },
  {
   "cell_type": "code",
   "execution_count": 148,
   "metadata": {},
   "outputs": [
    {
     "data": {
      "text/plain": [
       "TriangleMesh with 4651 points and 9174 triangles."
      ]
     },
     "execution_count": 148,
     "metadata": {},
     "output_type": "execute_result"
    }
   ],
   "source": [
    "\n",
    "### Load and compute the mean curvature\n",
    "# Load the tooth STL model using Trimesh\n",
    "mesh_trimesh = trimesh.load_mesh(f\"StudentTeeth/Mehmet.stl\")\n",
    "\n",
    "# Get vertices, faces, and normals\n",
    "old_vertices = np.array(mesh_trimesh.vertices)\n",
    "old_faces = np.array(mesh_trimesh.faces)\n",
    "old_normals = np.array(mesh_trimesh.vertex_normals)\n",
    "\n",
    "old_tooth_o3d = o3d.geometry.TriangleMesh()\n",
    "old_tooth_o3d.vertices = o3d.utility.Vector3dVector(old_vertices)\n",
    "old_tooth_o3d.triangles = o3d.utility.Vector3iVector(old_faces)\n",
    "old_tooth_o3d.compute_vertex_normals()# Convert full tooth to Open3D mesh\n",
    "\n",
    "old_tooth_o3d.paint_uniform_color([0.8, 0.8, 0.8])  # light gray\n",
    "# Visualize with both bounding boxes and the original mesh\n",
    "# Compute Mean Curvature using Trimesh"
   ]
  },
  {
   "cell_type": "code",
   "execution_count": 149,
   "metadata": {},
   "outputs": [
    {
     "data": {
      "text/plain": [
       "TriangleMesh with 4651 points and 9174 triangles."
      ]
     },
     "execution_count": 149,
     "metadata": {},
     "output_type": "execute_result"
    }
   ],
   "source": [
    "num_vertices = old_vertices.shape[0]\n",
    "num_samples = int(num_vertices * 0.2)\n",
    "\n",
    "# Sort vertices by Z-coordinate (descending order)\n",
    "sorted_indices = np.argsort(old_vertices[:, 2])[::-1]  # Use `1` for Y-axis or `0` for X-axis\n",
    "top_indices = sorted_indices[:num_samples]  # Select top 10%\n",
    "\n",
    "# Extract the top points\n",
    "top_points = old_vertices[top_indices]\n",
    "\n",
    "# Create a point cloud object\n",
    "pcd = o3d.geometry.PointCloud()\n",
    "pcd.points = o3d.utility.Vector3dVector(top_points)\n",
    "\n",
    "# Oriented Bounding Box (OBB) - if you want tighter fit but possibly rotated\n",
    "obb = pcd.get_oriented_bounding_box()\n",
    "obb.color = (0, 1, 0)  # Green\n",
    "\n",
    "R = obb.R              # Rotation matrix (3x3)\n",
    "center = obb.center    # Center of OBB\n",
    "\n",
    "\n",
    "T_translate_to_origin = np.eye(4)\n",
    "T_translate_to_origin[:3, 3] = -center\n",
    "\n",
    "T_translate_back = np.eye(4)\n",
    "T_translate_back[:3, 3] = center\n",
    "# Create rotation matrix in 4x4\n",
    "T_rotate = np.eye(4)\n",
    "T_rotate[:3, :3] = R  # your rotation matrix\n",
    "T_final = T_translate_back @ T_rotate @ T_translate_to_origin\n",
    "\n",
    "mesh_trimesh.apply_transform(T_final)\n",
    "#rotate tooth_o3d \n",
    "\n",
    "world_frame = o3d.geometry.TriangleMesh.create_coordinate_frame(size=5.0, origin=[0, 0, 5])\n",
    "\n",
    "vertices = np.array(mesh_trimesh.vertices)\n",
    "faces = np.array(mesh_trimesh.faces)\n",
    "normals = np.array(mesh_trimesh.vertex_normals)\n",
    "\n",
    "tooth_o3d = o3d.geometry.TriangleMesh()\n",
    "tooth_o3d.vertices = o3d.utility.Vector3dVector(vertices)\n",
    "tooth_o3d.triangles = o3d.utility.Vector3iVector(faces)\n",
    "tooth_o3d.compute_vertex_normals()# Convert full tooth to Open3D mesh\n",
    "\n",
    "tooth_o3d.paint_uniform_color([1, 0.8, 0.8])  # light gray\n",
    "# Visualize with both bounding boxes and the original mesh"
   ]
  },
  {
   "cell_type": "code",
   "execution_count": 150,
   "metadata": {},
   "outputs": [],
   "source": [
    "mean_curvature = trimesh.curvature.discrete_mean_curvature_measure(mesh_trimesh, mesh_trimesh.vertices, MEAN_CURVATURE_RADİUS)\n",
    "### kavitenin seçilmesi \n",
    "cavity_indices = np.where(mean_curvature < 0.4)[0]  # Select all vertices with negative curvature\n",
    "largest_cavity_mesh, largest_cavity_indices = extract_largest_cavity(vertices, faces, cavity_indices)\n",
    "cavity_vertices= np.asarray(largest_cavity_mesh.vertices)\n",
    "\n",
    "top_tooth_mesh = extract_top_percentage(tooth_o3d , TOOTH_PERCENTAGE) \n",
    "top_cavity_mesh = extract_top_percentage(largest_cavity_mesh , CAVITY_PERCENTAGE)\n",
    "tooth_dimension_cylinder_meshes, tooth_width, tooth_length = show_mesh_dimensions_with_cylinders(top_tooth_mesh)\n",
    "cavity_dimension_cylinder_meshes, cavity_width, cavity_length = show_mesh_dimensions_with_cylinders(largest_cavity_mesh)\n",
    "\n",
    "\n",
    "### Kavitenin alt kısmının seçilmesi ve kavite yüksekliğinin hesaplanması\n",
    "side_bottom, cavity_bottom = extract_cavity_parts(largest_cavity_mesh, BOTTOM_THRESHOLD_PERCENTAGE)\n",
    "\n",
    "# kavite altının z eksenindeki ortalamasını al\n",
    "bottom_vertices = np.asarray(cavity_bottom.vertices)\n",
    "bottom_z_values = bottom_vertices[:, 2]\n",
    "min_z_mean = np.mean(bottom_z_values) \n",
    "\n",
    "# kavite alanının en üstü \n",
    "max_z = np.max(cavity_vertices[:, 2])\n",
    "cavity_depth = max_z - min_z_mean  # Derinlik (Z eksenindeki fark)\n",
    "\n",
    "outline_indices = np.where((mean_curvature > 3.0))[0]\n",
    "roughness = calculate_roughness(cavity_bottom)\n",
    "colored_roughness = visualize_roughness(cavity_bottom,tooth_o3d)\n",
    "\n",
    "cavity_centroid = np.mean(cavity_vertices, axis=0)\n",
    "min_z_point = [cavity_centroid[0], cavity_centroid[1], min_z_mean]\n",
    "max_z_point = [cavity_centroid[0], cavity_centroid[1], max_z]\n",
    "cavity_depth_mesh = create_cylinder_between_points(min_z_point, max_z_point)\n",
    "\n",
    "right_mesh, left_mesh, right_normal_mean, left_normal_mean = split_side_and_get_normal_means(side_bottom)\n",
    "\n",
    "cavity_bottom.compute_vertex_normals()\n",
    "bottom_normal_mean = np.mean(np.asarray(cavity_bottom.vertex_normals),axis=0)\n",
    "\n",
    "right_angle = np.dot(right_normal_mean, bottom_normal_mean)\n",
    "left_angle = np.dot(left_normal_mean, bottom_normal_mean)\n"
   ]
  },
  {
   "cell_type": "code",
   "execution_count": 156,
   "metadata": {},
   "outputs": [],
   "source": [
    "o3d.visualization.draw_geometries([largest_cavity_mesh,tooth_o3d , old_tooth_o3d],mesh_show_back_face=True)"
   ]
  },
  {
   "cell_type": "code",
   "execution_count": 242,
   "metadata": {},
   "outputs": [],
   "source": [
    "\n",
    "def get_highest_point_near_mid_y(mesh, axis,tol=1 , mesial = 1): # mesial = 1 mesial = -1\n",
    "    new_vertices = np.array(mesh.vertices)\n",
    "    num_vertices = new_vertices.shape[0]\n",
    "    num_samples = int(num_vertices * 0.05)\n",
    "\n",
    "    # Sort vertices by Z-coordinate (descending order)\n",
    "    sorted_indices = np.argsort(new_vertices[:, axis ])[::mesial]  # Use `1` for Y-axis or `0` for X-axis\n",
    "    indices = sorted_indices[:num_samples]  # Select\n",
    "\n",
    "    # Extract the top points\n",
    "    points = new_vertices[indices]\n",
    "    min_y = np.min(points[:,1])\n",
    "    max_y = np.max(points[:,1]) /1.5\n",
    "    mid_y = (min_y + max_y) / 2.0\n",
    "\n",
    "    close_to_mid_y = points[(points[:,1] >= mid_y - tol) & (points[:,1] <= mid_y + tol)]\n",
    "    \n",
    "    highest_point_idx = np.argmin(close_to_mid_y[:,2])\n",
    "    highest_point = close_to_mid_y[highest_point_idx]\n",
    "\n",
    "    # Open3D PointCloud olarak döndür\n",
    "    highest_pcd = o3d.geometry.PointCloud()\n",
    "    highest_pcd.points = o3d.utility.Vector3dVector([highest_point])\n",
    "    return highest_pcd"
   ]
  },
  {
   "cell_type": "code",
   "execution_count": 246,
   "metadata": {},
   "outputs": [
    {
     "name": "stdout",
     "output_type": "stream",
     "text": [
      "1.483559854489878\n"
     ]
    }
   ],
   "source": [
    "def calculate_oklidian_length_point(point1 , point2 ): \n",
    "    x1 = np.asarray(point1.points)[0]\n",
    "    x2 = np.asarray(point2.points)[0]\n",
    "\n",
    "    # Öklidyen mesafe hesapla\n",
    "    distance = np.linalg.norm(x1 - x2)\n",
    "    return distance\n",
    "\n",
    "outer_mesial_point = get_highest_point_near_mid_y(tooth_o3d , 0 , mesial=1) \n",
    "cavity_mesial_point = get_highest_point_near_mid_y(largest_cavity_mesh , 0 , mesial=1) \n",
    "outer_distal_point = get_highest_point_near_mid_y(tooth_o3d , 0 , mesial=-1) \n",
    "cavity_distal_point = get_highest_point_near_mid_y(largest_cavity_mesh , 0 , mesial=-1) \n",
    "\n",
    "mesial_marginal_ridge_width = calculate_oklidian_length_point(outer_mesial_point, cavity_mesial_point )\n",
    "distal_marginal_ridge_width = calculate_oklidian_length_point(outer_distal_point, cavity_distal_point )\n",
    "\n",
    "print(mesial_marginal_ridge_width)\n",
    "\n",
    "o3d.visualization.draw_geometries([cavity_mesial_point ,tooth_o3d,world_frame],mesh_show_back_face=False)\n"
   ]
  },
  {
   "cell_type": "code",
   "execution_count": null,
   "metadata": {},
   "outputs": [],
   "source": []
  }
 ],
 "metadata": {
  "kernelspec": {
   "display_name": "Python 3",
   "language": "python",
   "name": "python3"
  },
  "language_info": {
   "codemirror_mode": {
    "name": "ipython",
    "version": 3
   },
   "file_extension": ".py",
   "mimetype": "text/x-python",
   "name": "python",
   "nbconvert_exporter": "python",
   "pygments_lexer": "ipython3",
   "version": "3.10.11"
  }
 },
 "nbformat": 4,
 "nbformat_minor": 2
}
